{
 "cells": [
  {
   "cell_type": "code",
   "execution_count": null,
   "id": "8529eb9f-270d-4603-b7c9-961800e7aadb",
   "metadata": {},
   "outputs": [],
   "source": [
    "from sentinelsat import SentinelAPI, read_geojson, geojson_to_wkt\n",
    "from datetime import date"
   ]
  },
  {
   "cell_type": "code",
   "execution_count": null,
   "id": "b5de2b00-1a31-4069-b5f8-3cae0881ccd6",
   "metadata": {},
   "outputs": [],
   "source": [
    "# connect to the API\n",
    "\n",
    "\n",
    "api = SentinelAPI('andresmartinez', '123456789', 'https://scihub.copernicus.eu/dhus')\n",
    "\n",
    "\n",
    "\n",
    "\n",
    "\n",
    "\n"
   ]
  },
  {
   "cell_type": "code",
   "execution_count": null,
   "id": "ad1a28e0-a533-44ea-ac56-55d93e3679d2",
   "metadata": {},
   "outputs": [],
   "source": [
    "\n",
    "# download single scene by known product id\n",
    "# api.download(<product_id>)"
   ]
  },
  {
   "cell_type": "code",
   "execution_count": null,
   "id": "147ce2e0-7c6e-4e5f-b579-f17778c7fa30",
   "metadata": {},
   "outputs": [],
   "source": [
    "# search by polygon, time, and SciHub query keywords\n",
    "footprint = geojson_to_wkt(read_geojson('/path/to/map.geojson'))\n",
    "products = api.query(footprint,\n",
    "                     date=('20151219', date(2015, 12, 29)),\n",
    "                     platformname='Sentinel-2',\n",
    "                     cloudcoverpercentage=(0, 30))"
   ]
  },
  {
   "cell_type": "code",
   "execution_count": null,
   "id": "aacf1946-c610-48a0-b478-c2d9c68c6b7e",
   "metadata": {},
   "outputs": [],
   "source": [
    "# download all results from the search\n",
    "api.download_all(products)"
   ]
  },
  {
   "cell_type": "code",
   "execution_count": null,
   "id": "f8caddc1-d20a-4a8e-9af9-63fede781f1a",
   "metadata": {},
   "outputs": [],
   "source": [
    "# convert to Pandas DataFrame\n",
    "products_df = api.to_dataframe(products)"
   ]
  },
  {
   "cell_type": "code",
   "execution_count": null,
   "id": "bbc7219f-ee75-4ddd-a710-a017ac34706b",
   "metadata": {},
   "outputs": [],
   "source": [
    "# GeoJSON FeatureCollection containing footprints and metadata of the scenes\n",
    "api.to_geojson(products)"
   ]
  },
  {
   "cell_type": "code",
   "execution_count": null,
   "id": "db6d5138-f749-4111-b6b6-2a9195b88159",
   "metadata": {},
   "outputs": [],
   "source": [
    "# GeoPandas GeoDataFrame with the metadata of the scenes and the footprints as geometries\n",
    "api.to_geodataframe(products)"
   ]
  },
  {
   "cell_type": "code",
   "execution_count": null,
   "id": "95c8ab40-5478-4cbe-9959-415e818056dc",
   "metadata": {},
   "outputs": [],
   "source": [
    "# Get basic information about the product: its title, file size, MD5 sum, date, footprint and\n",
    "# its download url\n",
    "api.get_product_odata(<product_id>)"
   ]
  },
  {
   "cell_type": "code",
   "execution_count": null,
   "id": "7e999e7c-20ee-4d2b-911b-32e03a1cc213",
   "metadata": {},
   "outputs": [],
   "source": [
    "# Get the product's full metadata available on the server\n",
    "api.get_product_odata(<product_id>, full=True)"
   ]
  }
 ],
 "metadata": {
  "kernelspec": {
   "display_name": "Python 3",
   "language": "python",
   "name": "python3"
  },
  "language_info": {
   "codemirror_mode": {
    "name": "ipython",
    "version": 3
   },
   "file_extension": ".py",
   "mimetype": "text/x-python",
   "name": "python",
   "nbconvert_exporter": "python",
   "pygments_lexer": "ipython3",
   "version": "3.9.2"
  }
 },
 "nbformat": 4,
 "nbformat_minor": 5
}
